{
 "cells": [
  {
   "cell_type": "code",
   "execution_count": 2,
   "metadata": {},
   "outputs": [
    {
     "name": "stderr",
     "output_type": "stream",
     "text": [
      "Using Theano backend.\n",
      "Using cuDNN version 5110 on context None\n",
      "Mapped name None to device cuda: Tesla K80 (0000:05:00.0)\n"
     ]
    }
   ],
   "source": [
    "# import block \n",
    "from keras.models import Sequential\n",
    "from scipy.misc import imread\n",
    "get_ipython().magic('matplotlib inline')\n",
    "import matplotlib.pyplot as plt\n",
    "import numpy as np\n",
    "import keras\n",
    "from keras.layers import Dense\n",
    "import pandas as pd\n",
    "from keras.models import Model\n",
    "\n",
    "from keras.applications.vgg16 import VGG16\n",
    "from keras.preprocessing import image\n",
    "from keras.applications.vgg16 import preprocess_input\n",
    "import numpy as np\n",
    "from keras.applications.vgg16 import decode_predictions\n",
    "from keras.utils.np_utils import to_categorical\n",
    "\n",
    "from sklearn.preprocessing import LabelEncoder\n",
    "from keras.models import Sequential\n",
    "from keras.optimizers import SGD\n",
    "from keras.layers import Input, Dense, Convolution2D, MaxPooling2D, AveragePooling2D, ZeroPadding2D, Dropout, Flatten, merge, Reshape, Activation\n",
    "from keras.models import load_model\n",
    "from sklearn.metrics import log_loss\n",
    "import os"
   ]
  },
  {
   "cell_type": "code",
   "execution_count": 4,
   "metadata": {},
   "outputs": [
    {
     "data": {
      "text/plain": [
       "['class_names.txt',\n",
       " 'fold_indices.txt',\n",
       " 'test_X.bin',\n",
       " 'test_y.bin',\n",
       " 'train_X.bin',\n",
       " 'train_y.bin',\n",
       " 'unlabeled_X.bin',\n",
       " 'data',\n",
       " 'vgg16_weights.h5',\n",
       " 'dl-cl-ly4-1.h5',\n",
       " 'dl-model.h5']"
      ]
     },
     "execution_count": 4,
     "metadata": {},
     "output_type": "execute_result"
    }
   ],
   "source": [
    "# path to files \n",
    "file_path = '/home/ppedapen/stl/'\n",
    "os.chdir(file_path)\n",
    "os.listdir(file_path)"
   ]
  },
  {
   "cell_type": "code",
   "execution_count": 8,
   "metadata": {
    "collapsed": true
   },
   "outputs": [],
   "source": [
    "# functions to access the data \n",
    "# image shape\n",
    "HEIGHT = 96\n",
    "WIDTH = 96\n",
    "DEPTH = 3\n",
    "\n",
    "# size of a single image in bytes\n",
    "SIZE = HEIGHT * WIDTH * DEPTH\n",
    "def read_labels(path_to_labels):\n",
    "    \"\"\"\n",
    "    :param path_to_labels: path to the binary file containing labels from the STL-10 dataset\n",
    "    :return: an array containing the labels\n",
    "    \"\"\"\n",
    "    with open(path_to_labels, 'rb') as f:\n",
    "        labels = np.fromfile(f, dtype=np.uint8)\n",
    "        return labels\n",
    "    \n",
    "def read_all_images(path_to_data):\n",
    "    with open(path_to_data, 'rb') as f:\n",
    "        # read whole file in uint8 chunks\n",
    "        everything = np.fromfile(f, dtype=np.uint8)\n",
    "        images = np.reshape(everything, (-1,96, 96,3))\n",
    "        images = np.transpose(images, (0, 3, 2, 1))\n",
    "        return images\n",
    "def read_single_image(image_file):\n",
    "    \"\"\"\n",
    "    CAREFUL! - this method uses a file as input instead of the path - so the\n",
    "    position of the reader will be remembered outside of context of this method.\n",
    "    :param image_file: the open file containing the images\n",
    "    :return: a single image\n",
    "    \"\"\"\n",
    "    image = np.fromfile(image_file, dtype=np.uint8, count=SIZE)\n",
    "    image = np.reshape(image, (3,96, 96))\n",
    "    image = np.transpose(image, (2, 1, 0))\n",
    "    return image\n",
    "\n"
   ]
  },
  {
   "cell_type": "code",
   "execution_count": 9,
   "metadata": {
    "collapsed": true
   },
   "outputs": [],
   "source": [
    "# loading the data \n",
    "train_x= read_all_images('train_X.bin')\n",
    "train_y =  read_labels('train_y.bin')\n",
    "test_x = read_all_images('test_X.bin')\n",
    "test_y = read_labels('test_y.bin')"
   ]
  },
  {
   "cell_type": "code",
   "execution_count": 10,
   "metadata": {
    "collapsed": true
   },
   "outputs": [],
   "source": [
    "# making sense of the data\n",
    "train_set_info = dict()\n",
    "test_set_info = dict()\n",
    "for i in range(1,11):\n",
    "    train_set_info[str(i)] = list(train_y).count(i)\n",
    "    test_set_info[str(i)] = list(test_y).count(i)"
   ]
  },
  {
   "cell_type": "code",
   "execution_count": 11,
   "metadata": {},
   "outputs": [
    {
     "data": {
      "image/png": "[encoded data removed]",
      "text/plain": [
       "<matplotlib.figure.Figure at 0x2aab0eebac10>"
      ]
     },
     "metadata": {},
     "output_type": "display_data"
    }
   ],
   "source": [
    "# plots\n",
    "# I know  x- axis labels are not in assending order, dont know why. \n",
    "plt.bar(range(len(train_set_info)), train_set_info.values(), align='center')\n",
    "plt.xticks(range(len(train_set_info)), train_set_info.keys())\n",
    "plt.xlabel('category')\n",
    "plt.ylabel('number of images in each category')\n",
    "plt.title('distribution of training data set')\n",
    "plt.show()"
   ]
  },
  {
   "cell_type": "code",
   "execution_count": 12,
   "metadata": {},
   "outputs": [
    {
     "data": {
      "image/png": "[encoded data removed]",
      "text/plain": [
       "<matplotlib.figure.Figure at 0x2aab0ee25a50>"
      ]
     },
     "metadata": {},
     "output_type": "display_data"
    }
   ],
   "source": [
    "# plot of test data set \n",
    "plt.bar(range(len(test_set_info)), test_set_info.values(), align='center')\n",
    "plt.xticks(range(len(test_set_info)), test_set_info.keys())\n",
    "plt.xlabel('category')\n",
    "plt.ylabel('number of images in each category')\n",
    "plt.title('distribution of test set')\n",
    "plt.show()"
   ]
  },
  {
   "cell_type": "markdown",
   "metadata": {},
   "source": [
    "#### test data and training data are uniformly ditributed each class in training data set has 500 images and each class in test set has 800 images"
   ]
  },
  {
   "cell_type": "markdown",
   "metadata": {},
   "source": [
    "## model builiting using a VVG16 model, I am freezing first 4 layers "
   ]
  },
  {
   "cell_type": "code",
   "execution_count": 13,
   "metadata": {
    "collapsed": true
   },
   "outputs": [],
   "source": [
    "# defining the the model \n",
    "def vgg16_model(img_rows, img_cols, channel=1, num_classes=None):\n",
    "    model_vgg16_conv = VGG16(weights='imagenet', include_top=False)\n",
    "    model_vgg16_conv.summary()\n",
    "\n",
    "    #Create your own input format (here 3x200x200)\n",
    "    input = Input(shape=(3,96,96),name = 'image_input')\n",
    "\n",
    "    #Use the generated model \n",
    "    output_vgg16_conv = model_vgg16_conv(input)\n",
    "\n",
    "    #Add the fully-connected layers \n",
    "    x = Flatten(name='flatten')(output_vgg16_conv)\n",
    "    x = Dense(4608, activation='relu', name='fc-a')(x)\n",
    "    x = Dense(2048, activation='relu', name='fc-b')(x)\n",
    "    x = Dense(1024, activation='relu', name='fc-c')(x)\n",
    "    x = Dense(512, activation='relu', name='fc-d')(x)\n",
    "    x = Dense(256, activation='relu', name='fc1')(x)\n",
    "    x = Dense(100, activation='relu', name='fc2')(x)\n",
    "    x = Dense(10, activation='softmax', name='predictions')(x)\n",
    "    \n",
    "  \n",
    "  \n",
    "\n",
    "    #Create your own model \n",
    "    model = Model(input=input, output=x)\n",
    "    \n",
    "    #To set the first 4 layers to non-trainable (weights will not be updated)\n",
    "    for layer in model.layers[:4]:\n",
    "        layer.trainable = False\n",
    "    # Learning rate is changed to 0.001\n",
    "    sgd = SGD(lr=1e-3, decay=1e-6, momentum=0.9, nesterov=True)\n",
    "    model.compile(optimizer=sgd, loss='categorical_crossentropy', metrics=['accuracy'])\n",
    "    \n",
    "    \n",
    "    return model\n",
    "\n"
   ]
  },
  {
   "cell_type": "code",
   "execution_count": 14,
   "metadata": {
    "collapsed": true
   },
   "outputs": [],
   "source": [
    "# encoding arrays \n",
    "le = LabelEncoder()\n",
    "train_y = le.fit_transform(train_y)\n",
    "train_y=to_categorical(train_y)\n",
    "train_y=np.array(train_y)\n",
    "\n",
    "\n",
    "le = LabelEncoder()\n",
    "test_y = le.fit_transform(test_y)\n",
    "test_y=to_categorical(test_y)\n",
    "test_y=np.array(test_y)"
   ]
  },
  {
   "cell_type": "code",
   "execution_count": 16,
   "metadata": {
    "collapsed": true
   },
   "outputs": [],
   "source": [
    "# defining parapeters \n",
    "img_rows, img_cols = 96, 96 # Resolution of inputs\n",
    "channel = 3\n",
    "num_classes = 10 \n",
    "batch_size = 16 \n",
    "nb_epoch = 10\n"
   ]
  },
  {
   "cell_type": "code",
   "execution_count": 16,
   "metadata": {
    "scrolled": true
   },
   "outputs": [
    {
     "name": "stdout",
     "output_type": "stream",
     "text": [
      "____________________________________________________________________________________________________\n",
      "Layer (type)                     Output Shape          Param #     Connected to                     \n",
      "====================================================================================================\n",
      "input_3 (InputLayer)             (None, 3, None, None) 0                                            \n",
      "____________________________________________________________________________________________________\n",
      "block1_conv1 (Convolution2D)     (None, 64, None, None 1792        input_3[0][0]                    \n",
      "____________________________________________________________________________________________________\n",
      "block1_conv2 (Convolution2D)     (None, 64, None, None 36928       block1_conv1[0][0]               \n",
      "____________________________________________________________________________________________________\n",
      "block1_pool (MaxPooling2D)       (None, 64, None, None 0           block1_conv2[0][0]               \n",
      "____________________________________________________________________________________________________\n",
      "block2_conv1 (Convolution2D)     (None, 128, None, Non 73856       block1_pool[0][0]                \n",
      "____________________________________________________________________________________________________\n",
      "block2_conv2 (Convolution2D)     (None, 128, None, Non 147584      block2_conv1[0][0]               \n",
      "____________________________________________________________________________________________________\n",
      "block2_pool (MaxPooling2D)       (None, 128, None, Non 0           block2_conv2[0][0]               \n",
      "____________________________________________________________________________________________________\n",
      "block3_conv1 (Convolution2D)     (None, 256, None, Non 295168      block2_pool[0][0]                \n",
      "____________________________________________________________________________________________________\n",
      "block3_conv2 (Convolution2D)     (None, 256, None, Non 590080      block3_conv1[0][0]               \n",
      "____________________________________________________________________________________________________\n",
      "block3_conv3 (Convolution2D)     (None, 256, None, Non 590080      block3_conv2[0][0]               \n",
      "____________________________________________________________________________________________________\n",
      "block3_pool (MaxPooling2D)       (None, 256, None, Non 0           block3_conv3[0][0]               \n",
      "____________________________________________________________________________________________________\n",
      "block4_conv1 (Convolution2D)     (None, 512, None, Non 1180160     block3_pool[0][0]                \n",
      "____________________________________________________________________________________________________\n",
      "block4_conv2 (Convolution2D)     (None, 512, None, Non 2359808     block4_conv1[0][0]               \n",
      "____________________________________________________________________________________________________\n",
      "block4_conv3 (Convolution2D)     (None, 512, None, Non 2359808     block4_conv2[0][0]               \n",
      "____________________________________________________________________________________________________\n",
      "block4_pool (MaxPooling2D)       (None, 512, None, Non 0           block4_conv3[0][0]               \n",
      "____________________________________________________________________________________________________\n",
      "block5_conv1 (Convolution2D)     (None, 512, None, Non 2359808     block4_pool[0][0]                \n",
      "____________________________________________________________________________________________________\n",
      "block5_conv2 (Convolution2D)     (None, 512, None, Non 2359808     block5_conv1[0][0]               \n",
      "____________________________________________________________________________________________________\n",
      "block5_conv3 (Convolution2D)     (None, 512, None, Non 2359808     block5_conv2[0][0]               \n",
      "____________________________________________________________________________________________________\n",
      "block5_pool (MaxPooling2D)       (None, 512, None, Non 0           block5_conv3[0][0]               \n",
      "====================================================================================================\n",
      "Total params: 14,714,688\n",
      "Trainable params: 14,714,688\n",
      "Non-trainable params: 0\n",
      "____________________________________________________________________________________________________\n",
      "____________________________________________________________________________________________________\n",
      "Layer (type)                     Output Shape          Param #     Connected to                     \n",
      "====================================================================================================\n",
      "image_input (InputLayer)         (None, 3, 96, 96)     0                                            \n",
      "____________________________________________________________________________________________________\n",
      "vgg16 (Model)                    multiple              14714688    image_input[0][0]                \n",
      "____________________________________________________________________________________________________\n",
      "flatten (Flatten)                (None, 4608)          0           vgg16[1][0]                      \n",
      "____________________________________________________________________________________________________\n",
      "fc-a (Dense)                     (None, 4608)          21238272    flatten[0][0]                    \n",
      "____________________________________________________________________________________________________\n",
      "fc-b (Dense)                     (None, 2048)          9439232     fc-a[0][0]                       \n",
      "____________________________________________________________________________________________________\n",
      "fc-c (Dense)                     (None, 1024)          2098176     fc-b[0][0]                       \n",
      "____________________________________________________________________________________________________\n",
      "fc-d (Dense)                     (None, 512)           524800      fc-c[0][0]                       \n",
      "____________________________________________________________________________________________________\n",
      "fc1 (Dense)                      (None, 256)           131328      fc-d[0][0]                       \n",
      "____________________________________________________________________________________________________\n",
      "fc2 (Dense)                      (None, 100)           25700       fc1[0][0]                        \n",
      "____________________________________________________________________________________________________\n",
      "predictions (Dense)              (None, 10)            1010        fc2[0][0]                        \n",
      "====================================================================================================\n",
      "Total params: 48,173,206\n",
      "Trainable params: 26,934,934\n",
      "Non-trainable params: 21,238,272\n",
      "____________________________________________________________________________________________________\n"
     ]
    }
   ],
   "source": [
    "# model creation\n",
    "model = vgg16_model(img_rows, img_cols, channel, num_classes)\n",
    "\n",
    "model.summary()\n"
   ]
  },
  {
   "cell_type": "code",
   "execution_count": 6,
   "metadata": {},
   "outputs": [],
   "source": [
    "# run this block to load the pretrained model \n",
    "# run only if you want to. else you can tran the model from scratch\n",
    "\n",
    "# if there is an error message \n",
    "'''\n",
    "ValueError: Optimizer weight shape (64, 3, 3, 3) not compatible with provided weight shape (4608, 2048), \n",
    "then you need to remove optimizer_weights , there is code snipet at the end of this file to do that\n",
    "this error is caused because of a bug in load_model '''\n",
    "\n",
    "model = load_model('dl-model.h5')"
   ]
  },
  {
   "cell_type": "code",
   "execution_count": 17,
   "metadata": {
    "scrolled": true
   },
   "outputs": [
    {
     "name": "stdout",
     "output_type": "stream",
     "text": [
      "Train on 5000 samples, validate on 8000 samples\n",
      "Epoch 1/1\n",
      "5000/5000 [==============================] - 63s - loss: 1.9059 - acc: 0.3636 - val_loss: 1.5220 - val_acc: 0.4256\n"
     ]
    },
    {
     "data": {
      "text/plain": [
       "<keras.callbacks.History at 0x2aab2efdfa10>"
      ]
     },
     "execution_count": 17,
     "metadata": {},
     "output_type": "execute_result"
    }
   ],
   "source": [
    "# train the model to fit our data\n",
    "model.fit(train_x, train_y,batch_size=batch_size,nb_epoch=1,shuffle=True,verbose=1,validation_data=(test_x, test_y))"
   ]
  },
  {
   "cell_type": "code",
   "execution_count": 17,
   "metadata": {},
   "outputs": [
    {
     "name": "stdout",
     "output_type": "stream",
     "text": [
      "8000/8000 [==============================] - 40s    \n"
     ]
    }
   ],
   "source": [
    "# Make predictions\n",
    "predictions_valid = model.predict(test_x, batch_size=batch_size, verbose=1)"
   ]
  },
  {
   "cell_type": "code",
   "execution_count": 18,
   "metadata": {},
   "outputs": [
    {
     "name": "stdout",
     "output_type": "stream",
     "text": [
      "('accuracy %: ', 52.87500000000001)\n"
     ]
    }
   ],
   "source": [
    "#accuracy\n",
    "temp = np.zeros_like(predictions_valid)\n",
    "temp[np.arange(len(predictions_valid)), predictions_valid.argmax(1)] = 1\n",
    "count = 0\n",
    "for i in range(0, len(temp)):\n",
    "    if (np.count_nonzero(test_y[i]!=temp[i])  == 0):\n",
    "        count +=1\n",
    "\n",
    "accuracy = (float(count)/(len(temp)))\n",
    "print('accuracy %: ',accuracy*100)\n"
   ]
  },
  {
   "cell_type": "code",
   "execution_count": 268,
   "metadata": {
    "collapsed": true
   },
   "outputs": [],
   "source": [
    "# save the model if you want to\n",
    "model.save('dl-cl-ly4-1.h5')  "
   ]
  },
  {
   "cell_type": "markdown",
   "metadata": {
    "collapsed": true
   },
   "source": [
    "### do not run the next block unless you want to start an infinity loop. "
   ]
  },
  {
   "cell_type": "code",
   "execution_count": 221,
   "metadata": {},
   "outputs": [
    {
     "name": "stdout",
     "output_type": "stream",
     "text": [
      "Train on 5000 samples, validate on 8000 samples\n",
      "Epoch 1/1\n",
      "5000/5000 [==============================] - 63s - loss: 1.0611 - acc: 0.6278 - val_loss: 1.4758 - val_acc: 0.4811\n",
      "8000/8000 [==============================] - 39s    \n",
      "('iteration : ', 1, ', accuracy %: ', 48.112500000000004)\n",
      "('saving at iter::: ', 1)\n",
      "Train on 5000 samples, validate on 8000 samples\n",
      "Epoch 1/1\n",
      "5000/5000 [==============================] - 64s - loss: 0.8564 - acc: 0.6852 - val_loss: 1.4877 - val_acc: 0.5004\n",
      "8000/8000 [==============================] - 40s    \n",
      "('iteration : ', 2, ', accuracy %: ', 50.0375)\n",
      "('saving at iter::: ', 2)\n",
      "Train on 5000 samples, validate on 8000 samples\n",
      "Epoch 1/1\n",
      "5000/5000 [==============================] - 66s - loss: 0.6829 - acc: 0.7620 - val_loss: 1.6050 - val_acc: 0.5035\n",
      "8000/8000 [==============================] - 40s    \n",
      "('iteration : ', 3, ', accuracy %: ', 50.349999999999994)\n",
      "('saving at iter::: ', 3)\n",
      "Train on 5000 samples, validate on 8000 samples\n",
      "Epoch 1/1\n",
      "5000/5000 [==============================] - 66s - loss: 0.5496 - acc: 0.8030 - val_loss: 1.8859 - val_acc: 0.4746\n",
      "8000/8000 [==============================] - 40s    \n",
      "('iteration : ', 4, ', accuracy %: ', 47.4625)\n",
      "Train on 5000 samples, validate on 8000 samples\n",
      "Epoch 1/1\n",
      "5000/5000 [==============================] - 64s - loss: 0.4269 - acc: 0.8428 - val_loss: 1.9299 - val_acc: 0.4936\n",
      "8000/8000 [==============================] - 39s    \n",
      "('iteration : ', 5, ', accuracy %: ', 49.3625)\n",
      "Train on 5000 samples, validate on 8000 samples\n",
      "Epoch 1/1\n",
      "5000/5000 [==============================] - 64s - loss: 0.4059 - acc: 0.8588 - val_loss: 2.0437 - val_acc: 0.4955\n",
      "8000/8000 [==============================] - 39s    \n",
      "('iteration : ', 6, ', accuracy %: ', 49.55)\n",
      "Train on 5000 samples, validate on 8000 samples\n",
      "Epoch 1/1\n",
      "5000/5000 [==============================] - 64s - loss: 0.2997 - acc: 0.8994 - val_loss: 2.2716 - val_acc: 0.5000\n",
      "8000/8000 [==============================] - 39s    \n",
      "('iteration : ', 7, ', accuracy %: ', 50.0)\n",
      "Train on 5000 samples, validate on 8000 samples\n",
      "Epoch 1/1\n",
      "5000/5000 [==============================] - 64s - loss: 0.2461 - acc: 0.9190 - val_loss: 2.3427 - val_acc: 0.4838\n",
      "8000/8000 [==============================] - 39s    \n",
      "('iteration : ', 8, ', accuracy %: ', 48.375)\n",
      "Train on 5000 samples, validate on 8000 samples\n",
      "Epoch 1/1\n",
      "5000/5000 [==============================] - 64s - loss: 0.2759 - acc: 0.9078 - val_loss: 2.3531 - val_acc: 0.4946\n",
      "8000/8000 [==============================] - 39s    \n",
      "('iteration : ', 9, ', accuracy %: ', 49.4625)\n",
      "Train on 5000 samples, validate on 8000 samples\n",
      "Epoch 1/1\n",
      "5000/5000 [==============================] - 64s - loss: 0.1924 - acc: 0.9354 - val_loss: 2.6672 - val_acc: 0.5015\n",
      "8000/8000 [==============================] - 39s    \n",
      "('iteration : ', 10, ', accuracy %: ', 50.14999999999999)\n",
      "Train on 5000 samples, validate on 8000 samples\n",
      "Epoch 1/1\n",
      "5000/5000 [==============================] - 64s - loss: 0.1369 - acc: 0.9528 - val_loss: 2.7645 - val_acc: 0.4971\n",
      "8000/8000 [==============================] - 39s    \n",
      "('iteration : ', 11, ', accuracy %: ', 49.7125)\n",
      "Train on 5000 samples, validate on 8000 samples\n",
      "Epoch 1/1\n",
      "5000/5000 [==============================] - 64s - loss: 0.1521 - acc: 0.9528 - val_loss: 2.7265 - val_acc: 0.5022\n",
      "8000/8000 [==============================] - 39s    \n",
      "('iteration : ', 12, ', accuracy %: ', 50.224999999999994)\n",
      "Train on 5000 samples, validate on 8000 samples\n",
      "Epoch 1/1\n",
      "5000/5000 [==============================] - 64s - loss: 0.1020 - acc: 0.9680 - val_loss: 2.7045 - val_acc: 0.5051\n",
      "8000/8000 [==============================] - 39s    \n",
      "('iteration : ', 13, ', accuracy %: ', 50.5125)\n",
      "('saving at iter::: ', 13)\n",
      "Train on 5000 samples, validate on 8000 samples\n",
      "Epoch 1/1\n",
      "5000/5000 [==============================] - 64s - loss: 0.1031 - acc: 0.9666 - val_loss: 2.8371 - val_acc: 0.4911\n",
      "8000/8000 [==============================] - 40s    \n",
      "('iteration : ', 14, ', accuracy %: ', 49.1125)\n",
      "Train on 5000 samples, validate on 8000 samples\n",
      "Epoch 1/1\n",
      "5000/5000 [==============================] - 65s - loss: 0.1020 - acc: 0.9660 - val_loss: 2.9480 - val_acc: 0.4974\n",
      "8000/8000 [==============================] - 40s    \n",
      "('iteration : ', 15, ', accuracy %: ', 49.737500000000004)\n",
      "Train on 5000 samples, validate on 8000 samples\n",
      "Epoch 1/1\n",
      "5000/5000 [==============================] - 65s - loss: 0.1694 - acc: 0.9414 - val_loss: 2.7827 - val_acc: 0.5031\n",
      "8000/8000 [==============================] - 40s    \n",
      "('iteration : ', 16, ', accuracy %: ', 50.31250000000001)\n",
      "Train on 5000 samples, validate on 8000 samples\n",
      "Epoch 1/1\n",
      "5000/5000 [==============================] - 64s - loss: 0.0878 - acc: 0.9718 - val_loss: 2.8200 - val_acc: 0.5115\n",
      "8000/8000 [==============================] - 39s    \n",
      "('iteration : ', 17, ', accuracy %: ', 51.15)\n",
      "('saving at iter::: ', 17)\n",
      "Train on 5000 samples, validate on 8000 samples\n",
      "Epoch 1/1\n",
      "5000/5000 [==============================] - 64s - loss: 0.0574 - acc: 0.9820 - val_loss: 3.1309 - val_acc: 0.5004\n",
      "8000/8000 [==============================] - 39s    \n",
      "('iteration : ', 18, ', accuracy %: ', 50.0375)\n",
      "Train on 5000 samples, validate on 8000 samples\n",
      "Epoch 1/1\n",
      "5000/5000 [==============================] - 64s - loss: 0.0713 - acc: 0.9774 - val_loss: 3.0667 - val_acc: 0.5082\n",
      "8000/8000 [==============================] - 39s    \n",
      "('iteration : ', 19, ', accuracy %: ', 50.824999999999996)\n",
      "Train on 5000 samples, validate on 8000 samples\n",
      "Epoch 1/1\n",
      "5000/5000 [==============================] - 64s - loss: 0.0723 - acc: 0.9764 - val_loss: 3.0749 - val_acc: 0.5036\n",
      "8000/8000 [==============================] - 39s    \n",
      "('iteration : ', 20, ', accuracy %: ', 50.3625)\n",
      "Train on 5000 samples, validate on 8000 samples\n",
      "Epoch 1/1\n",
      "5000/5000 [==============================] - 64s - loss: 0.0422 - acc: 0.9874 - val_loss: 3.0175 - val_acc: 0.5206\n",
      "8000/8000 [==============================] - 39s    \n",
      "('iteration : ', 21, ', accuracy %: ', 52.0625)\n",
      "('saving at iter::: ', 21)\n",
      "Train on 5000 samples, validate on 8000 samples\n",
      "Epoch 1/1\n",
      "5000/5000 [==============================] - 64s - loss: 0.0081 - acc: 0.9978 - val_loss: 3.2837 - val_acc: 0.5218\n",
      "8000/8000 [==============================] - 39s    \n",
      "('iteration : ', 22, ', accuracy %: ', 52.175000000000004)\n",
      "('saving at iter::: ', 22)\n",
      "Train on 5000 samples, validate on 8000 samples\n",
      "Epoch 1/1\n",
      "5000/5000 [==============================] - 64s - loss: 7.6953e-04 - acc: 1.0000 - val_loss: 3.2519 - val_acc: 0.5228\n",
      "8000/8000 [==============================] - 39s    \n",
      "('iteration : ', 23, ', accuracy %: ', 52.275000000000006)\n",
      "('saving at iter::: ', 23)\n",
      "Train on 5000 samples, validate on 8000 samples\n",
      "Epoch 1/1\n",
      "5000/5000 [==============================] - 64s - loss: 3.7500e-04 - acc: 1.0000 - val_loss: 3.3017 - val_acc: 0.5235\n",
      "8000/8000 [==============================] - 39s    \n",
      "('iteration : ', 24, ', accuracy %: ', 52.349999999999994)\n",
      "('saving at iter::: ', 24)\n",
      "Train on 5000 samples, validate on 8000 samples\n",
      "Epoch 1/1\n",
      "5000/5000 [==============================] - 64s - loss: 2.5563e-04 - acc: 1.0000 - val_loss: 3.3408 - val_acc: 0.5235\n",
      "8000/8000 [==============================] - 39s    \n",
      "('iteration : ', 25, ', accuracy %: ', 52.349999999999994)\n",
      "Train on 5000 samples, validate on 8000 samples\n",
      "Epoch 1/1\n",
      "5000/5000 [==============================] - 64s - loss: 2.1265e-04 - acc: 1.0000 - val_loss: 3.3735 - val_acc: 0.5239\n",
      "8000/8000 [==============================] - 39s    \n",
      "('iteration : ', 26, ', accuracy %: ', 52.387499999999996)\n",
      "('saving at iter::: ', 26)\n",
      "Train on 5000 samples, validate on 8000 samples\n",
      "Epoch 1/1\n",
      "5000/5000 [==============================] - 64s - loss: 1.8302e-04 - acc: 1.0000 - val_loss: 3.4016 - val_acc: 0.5244\n",
      "8000/8000 [==============================] - 39s    \n",
      "('iteration : ', 27, ', accuracy %: ', 52.4375)\n",
      "('saving at iter::: ', 27)\n",
      "Train on 5000 samples, validate on 8000 samples\n",
      "Epoch 1/1\n",
      "5000/5000 [==============================] - 64s - loss: 1.6119e-04 - acc: 1.0000 - val_loss: 3.4265 - val_acc: 0.5241\n",
      "8000/8000 [==============================] - 39s    \n",
      "('iteration : ', 28, ', accuracy %: ', 52.412499999999994)\n",
      "Train on 5000 samples, validate on 8000 samples\n",
      "Epoch 1/1\n",
      "5000/5000 [==============================] - 64s - loss: 1.4402e-04 - acc: 1.0000 - val_loss: 3.4493 - val_acc: 0.5244\n",
      "8000/8000 [==============================] - 39s    \n",
      "('iteration : ', 29, ', accuracy %: ', 52.4375)\n",
      "Train on 5000 samples, validate on 8000 samples\n",
      "Epoch 1/1\n",
      "5000/5000 [==============================] - 64s - loss: 1.3034e-04 - acc: 1.0000 - val_loss: 3.4699 - val_acc: 0.5245\n",
      "8000/8000 [==============================] - 39s    \n",
      "('iteration : ', 30, ', accuracy %: ', 52.449999999999996)\n",
      "('saving at iter::: ', 30)\n",
      "Train on 5000 samples, validate on 8000 samples\n",
      "Epoch 1/1\n",
      "5000/5000 [==============================] - 64s - loss: 1.1904e-04 - acc: 1.0000 - val_loss: 3.4887 - val_acc: 0.5251\n",
      "8000/8000 [==============================] - 39s    \n",
      "('iteration : ', 31, ', accuracy %: ', 52.512499999999996)\n",
      "('saving at iter::: ', 31)\n",
      "Train on 5000 samples, validate on 8000 samples\n",
      "Epoch 1/1\n",
      "5000/5000 [==============================] - 64s - loss: 1.0967e-04 - acc: 1.0000 - val_loss: 3.5064 - val_acc: 0.5250\n",
      "8000/8000 [==============================] - 39s    \n",
      "('iteration : ', 32, ', accuracy %: ', 52.5)\n",
      "Train on 5000 samples, validate on 8000 samples\n",
      "Epoch 1/1\n",
      "5000/5000 [==============================] - 64s - loss: 1.0162e-04 - acc: 1.0000 - val_loss: 3.5226 - val_acc: 0.5251\n",
      "8000/8000 [==============================] - 39s    \n",
      "('iteration : ', 33, ', accuracy %: ', 52.512499999999996)\n",
      "Train on 5000 samples, validate on 8000 samples\n",
      "Epoch 1/1\n",
      "5000/5000 [==============================] - 64s - loss: 9.4701e-05 - acc: 1.0000 - val_loss: 3.5377 - val_acc: 0.5254\n",
      "8000/8000 [==============================] - 39s    \n",
      "('iteration : ', 34, ', accuracy %: ', 52.5375)\n",
      "('saving at iter::: ', 34)\n",
      "Train on 5000 samples, validate on 8000 samples\n",
      "Epoch 1/1\n",
      "5000/5000 [==============================] - 64s - loss: 8.8669e-05 - acc: 1.0000 - val_loss: 3.5516 - val_acc: 0.5262\n",
      "8000/8000 [==============================] - 39s    \n",
      "('iteration : ', 35, ', accuracy %: ', 52.625)\n",
      "('saving at iter::: ', 35)\n",
      "Train on 5000 samples, validate on 8000 samples\n",
      "Epoch 1/1\n",
      "5000/5000 [==============================] - 64s - loss: 8.3434e-05 - acc: 1.0000 - val_loss: 3.5652 - val_acc: 0.5261\n",
      "8000/8000 [==============================] - 39s    \n",
      "('iteration : ', 36, ', accuracy %: ', 52.6125)\n",
      "Train on 5000 samples, validate on 8000 samples\n",
      "Epoch 1/1\n",
      "5000/5000 [==============================] - 64s - loss: 7.8764e-05 - acc: 1.0000 - val_loss: 3.5774 - val_acc: 0.5262\n",
      "8000/8000 [==============================] - 39s    \n",
      "('iteration : ', 37, ', accuracy %: ', 52.625)\n",
      "Train on 5000 samples, validate on 8000 samples\n",
      "Epoch 1/1\n",
      "5000/5000 [==============================] - 64s - loss: 7.4607e-05 - acc: 1.0000 - val_loss: 3.5892 - val_acc: 0.5265\n",
      "8000/8000 [==============================] - 40s    \n",
      "('iteration : ', 38, ', accuracy %: ', 52.65)\n",
      "('saving at iter::: ', 38)\n",
      "Train on 5000 samples, validate on 8000 samples\n",
      "Epoch 1/1\n",
      "5000/5000 [==============================] - 65s - loss: 7.0867e-05 - acc: 1.0000 - val_loss: 3.6004 - val_acc: 0.5265\n",
      "8000/8000 [==============================] - 40s    \n",
      "('iteration : ', 39, ', accuracy %: ', 52.65)\n",
      "Train on 5000 samples, validate on 8000 samples\n",
      "Epoch 1/1\n",
      "5000/5000 [==============================] - 65s - loss: 6.7450e-05 - acc: 1.0000 - val_loss: 3.6112 - val_acc: 0.5266\n",
      "8000/8000 [==============================] - 40s    \n",
      "('iteration : ', 40, ', accuracy %: ', 52.6625)\n",
      "('saving at iter::: ', 40)\n",
      "Train on 5000 samples, validate on 8000 samples\n",
      "Epoch 1/1\n",
      "5000/5000 [==============================] - 65s - loss: 6.4377e-05 - acc: 1.0000 - val_loss: 3.6213 - val_acc: 0.5265\n",
      "8000/8000 [==============================] - 40s    \n",
      "('iteration : ', 41, ', accuracy %: ', 52.65)\n",
      "Train on 5000 samples, validate on 8000 samples\n",
      "Epoch 1/1\n",
      "5000/5000 [==============================] - 65s - loss: 6.1568e-05 - acc: 1.0000 - val_loss: 3.6308 - val_acc: 0.5269\n",
      "8000/8000 [==============================] - 40s    \n",
      "('iteration : ', 42, ', accuracy %: ', 52.6875)\n",
      "('saving at iter::: ', 42)\n",
      "Train on 5000 samples, validate on 8000 samples\n",
      "Epoch 1/1\n",
      "5000/5000 [==============================] - 65s - loss: 5.8994e-05 - acc: 1.0000 - val_loss: 3.6404 - val_acc: 0.5269\n",
      "8000/8000 [==============================] - 40s    \n",
      "('iteration : ', 43, ', accuracy %: ', 52.6875)\n",
      "Train on 5000 samples, validate on 8000 samples\n",
      "Epoch 1/1\n",
      "5000/5000 [==============================] - 65s - loss: 5.6628e-05 - acc: 1.0000 - val_loss: 3.6493 - val_acc: 0.5270\n",
      "8000/8000 [==============================] - 39s    \n",
      "('iteration : ', 44, ', accuracy %: ', 52.7)\n",
      "('saving at iter::: ', 44)\n",
      "Train on 5000 samples, validate on 8000 samples\n",
      "Epoch 1/1\n",
      "5000/5000 [==============================] - 64s - loss: 5.4449e-05 - acc: 1.0000 - val_loss: 3.6579 - val_acc: 0.5279\n",
      "8000/8000 [==============================] - 39s    \n",
      "('iteration : ', 45, ', accuracy %: ', 52.7875)\n",
      "('saving at iter::: ', 45)\n",
      "Train on 5000 samples, validate on 8000 samples\n",
      "Epoch 1/1\n",
      "5000/5000 [==============================] - 64s - loss: 5.2406e-05 - acc: 1.0000 - val_loss: 3.6662 - val_acc: 0.5278\n",
      "8000/8000 [==============================] - 40s    \n",
      "('iteration : ', 46, ', accuracy %: ', 52.775000000000006)\n",
      "Train on 5000 samples, validate on 8000 samples\n",
      "Epoch 1/1\n",
      "5000/5000 [==============================] - 65s - loss: 5.0540e-05 - acc: 1.0000 - val_loss: 3.6742 - val_acc: 0.5279\n",
      "8000/8000 [==============================] - 40s    \n",
      "('iteration : ', 47, ', accuracy %: ', 52.7875)\n",
      "Train on 5000 samples, validate on 8000 samples\n",
      "Epoch 1/1\n",
      "5000/5000 [==============================] - 65s - loss: 4.8766e-05 - acc: 1.0000 - val_loss: 3.6819 - val_acc: 0.5276\n",
      "8000/8000 [==============================] - 40s    \n",
      "('iteration : ', 48, ', accuracy %: ', 52.7625)\n",
      "Train on 5000 samples, validate on 8000 samples\n",
      "Epoch 1/1\n",
      "5000/5000 [==============================] - 65s - loss: 4.7148e-05 - acc: 1.0000 - val_loss: 3.6892 - val_acc: 0.5279\n",
      "8000/8000 [==============================] - 39s    \n",
      "('iteration : ', 49, ', accuracy %: ', 52.7875)\n",
      "Train on 5000 samples, validate on 8000 samples\n",
      "Epoch 1/1\n",
      "5000/5000 [==============================] - 64s - loss: 4.5620e-05 - acc: 1.0000 - val_loss: 3.6964 - val_acc: 0.5278\n",
      "8000/8000 [==============================] - 39s    \n",
      "('iteration : ', 50, ', accuracy %: ', 52.775000000000006)\n",
      "Train on 5000 samples, validate on 8000 samples\n",
      "Epoch 1/1\n",
      "5000/5000 [==============================] - 63s - loss: 4.4192e-05 - acc: 1.0000 - val_loss: 3.7032 - val_acc: 0.5280\n",
      "8000/8000 [==============================] - 39s    \n",
      "('iteration : ', 51, ', accuracy %: ', 52.800000000000004)\n",
      "('saving at iter::: ', 51)\n",
      "Train on 5000 samples, validate on 8000 samples\n",
      "Epoch 1/1\n",
      "5000/5000 [==============================] - 64s - loss: 4.2852e-05 - acc: 1.0000 - val_loss: 3.7099 - val_acc: 0.5278\n",
      "8000/8000 [==============================] - 40s    \n",
      "('iteration : ', 52, ', accuracy %: ', 52.775000000000006)\n",
      "Train on 5000 samples, validate on 8000 samples\n",
      "Epoch 1/1\n",
      "5000/5000 [==============================] - 65s - loss: 4.1605e-05 - acc: 1.0000 - val_loss: 3.7163 - val_acc: 0.5278\n",
      "8000/8000 [==============================] - 39s    \n",
      "('iteration : ', 53, ', accuracy %: ', 52.775000000000006)\n",
      "Train on 5000 samples, validate on 8000 samples\n",
      "Epoch 1/1\n",
      "5000/5000 [==============================] - 65s - loss: 4.0417e-05 - acc: 1.0000 - val_loss: 3.7225 - val_acc: 0.5276\n",
      "8000/8000 [==============================] - 39s    \n",
      "('iteration : ', 54, ', accuracy %: ', 52.7625)\n",
      "Train on 5000 samples, validate on 8000 samples\n",
      "Epoch 1/1\n",
      "5000/5000 [==============================] - 64s - loss: 3.9296e-05 - acc: 1.0000 - val_loss: 3.7286 - val_acc: 0.5279\n",
      "8000/8000 [==============================] - 40s    \n",
      "('iteration : ', 55, ', accuracy %: ', 52.7875)\n",
      "Train on 5000 samples, validate on 8000 samples\n",
      "Epoch 1/1\n",
      "5000/5000 [==============================] - 69s - loss: 3.8226e-05 - acc: 1.0000 - val_loss: 3.7346 - val_acc: 0.5276\n",
      "8000/8000 [==============================] - 40s    \n",
      "('iteration : ', 56, ', accuracy %: ', 52.7625)\n",
      "Train on 5000 samples, validate on 8000 samples\n",
      "Epoch 1/1\n"
     ]
    },
    {
     "name": "stdout",
     "output_type": "stream",
     "text": [
      "5000/5000 [==============================] - 65s - loss: 3.7221e-05 - acc: 1.0000 - val_loss: 3.7403 - val_acc: 0.5278\n",
      "8000/8000 [==============================] - 42s     ETA: \n",
      "('iteration : ', 57, ', accuracy %: ', 52.775000000000006)\n",
      "Train on 5000 samples, validate on 8000 samples\n",
      "Epoch 1/1\n",
      "5000/5000 [==============================] - 73s - loss: 3.6262e-05 - acc: 1.0000 - val_loss: 3.7459 - val_acc: 0.5278\n",
      "8000/8000 [==============================] - 41s    \n",
      "('iteration : ', 58, ', accuracy %: ', 52.775000000000006)\n",
      "Train on 5000 samples, validate on 8000 samples\n",
      "Epoch 1/1\n",
      "5000/5000 [==============================] - 68s - loss: 3.5363e-05 - acc: 1.0000 - val_loss: 3.7513 - val_acc: 0.5278loss - ETA: 9s - loss: 3.54 - E\n",
      "8000/8000 [==============================] - 40s    \n",
      "('iteration : ', 59, ', accuracy %: ', 52.775000000000006)\n",
      "Train on 5000 samples, validate on 8000 samples\n",
      "Epoch 1/1\n",
      "5000/5000 [==============================] - 67s - loss: 3.4504e-05 - acc: 1.0000 - val_loss: 3.7566 - val_acc: 0.5276\n",
      "8000/8000 [==============================] - 43s    \n",
      "('iteration : ', 60, ', accuracy %: ', 52.7625)\n",
      "Train on 5000 samples, validate on 8000 samples\n",
      "Epoch 1/1\n",
      "5000/5000 [==============================] - 67s - loss: 3.3671e-05 - acc: 1.0000 - val_loss: 3.7617 - val_acc: 0.5276\n",
      "8000/8000 [==============================] - 42s    \n",
      "('iteration : ', 61, ', accuracy %: ', 52.7625)\n",
      "Train on 5000 samples, validate on 8000 samples\n",
      "Epoch 1/1\n",
      "5000/5000 [==============================] - 67s - loss: 3.2894e-05 - acc: 1.0000 - val_loss: 3.7668 - val_acc: 0.5278\n",
      "8000/8000 [==============================] - 40s    \n",
      "('iteration : ', 62, ', accuracy %: ', 52.775000000000006)\n",
      "Train on 5000 samples, validate on 8000 samples\n",
      "Epoch 1/1\n",
      "5000/5000 [==============================] - 65s - loss: 3.2148e-05 - acc: 1.0000 - val_loss: 3.7717 - val_acc: 0.5279\n",
      "8000/8000 [==============================] - 40s    \n",
      "('iteration : ', 63, ', accuracy %: ', 52.7875)\n",
      "Train on 5000 samples, validate on 8000 samples\n",
      "Epoch 1/1\n",
      "5000/5000 [==============================] - 65s - loss: 3.1434e-05 - acc: 1.0000 - val_loss: 3.7765 - val_acc: 0.5276\n",
      "8000/8000 [==============================] - 40s    \n",
      "('iteration : ', 64, ', accuracy %: ', 52.7625)\n",
      "Train on 5000 samples, validate on 8000 samples\n",
      "Epoch 1/1\n",
      "5000/5000 [==============================] - 65s - loss: 3.0753e-05 - acc: 1.0000 - val_loss: 3.7811 - val_acc: 0.5276\n",
      "8000/8000 [==============================] - 40s    \n",
      "('iteration : ', 65, ', accuracy %: ', 52.7625)\n",
      "Train on 5000 samples, validate on 8000 samples\n",
      "Epoch 1/1\n",
      "5000/5000 [==============================] - 65s - loss: 3.0099e-05 - acc: 1.0000 - val_loss: 3.7857 - val_acc: 0.5278\n",
      "8000/8000 [==============================] - 40s    \n",
      "('iteration : ', 66, ', accuracy %: ', 52.775000000000006)\n",
      "Train on 5000 samples, validate on 8000 samples\n",
      "Epoch 1/1\n",
      "5000/5000 [==============================] - 65s - loss: 2.9477e-05 - acc: 1.0000 - val_loss: 3.7902 - val_acc: 0.5280\n",
      "8000/8000 [==============================] - 40s    \n",
      "('iteration : ', 67, ', accuracy %: ', 52.800000000000004)\n",
      "Train on 5000 samples, validate on 8000 samples\n",
      "Epoch 1/1\n",
      "5000/5000 [==============================] - 65s - loss: 2.8875e-05 - acc: 1.0000 - val_loss: 3.7946 - val_acc: 0.5281\n",
      "8000/8000 [==============================] - 40s    \n",
      "('iteration : ', 68, ', accuracy %: ', 52.81249999999999)\n",
      "('saving at iter::: ', 68)\n",
      "Train on 5000 samples, validate on 8000 samples\n",
      "Epoch 1/1\n",
      "5000/5000 [==============================] - 64s - loss: 2.8300e-05 - acc: 1.0000 - val_loss: 3.7988 - val_acc: 0.5279\n",
      "8000/8000 [==============================] - 39s    \n",
      "('iteration : ', 69, ', accuracy %: ', 52.7875)\n",
      "Train on 5000 samples, validate on 8000 samples\n",
      "Epoch 1/1\n",
      "5000/5000 [==============================] - 64s - loss: 2.7748e-05 - acc: 1.0000 - val_loss: 3.8030 - val_acc: 0.5279\n",
      "8000/8000 [==============================] - 39s    \n",
      "('iteration : ', 70, ', accuracy %: ', 52.7875)\n",
      "Train on 5000 samples, validate on 8000 samples\n",
      "Epoch 1/1\n",
      "5000/5000 [==============================] - 64s - loss: 2.7214e-05 - acc: 1.0000 - val_loss: 3.8071 - val_acc: 0.5279\n",
      "8000/8000 [==============================] - 39s    \n",
      "('iteration : ', 71, ', accuracy %: ', 52.7875)\n",
      "Train on 5000 samples, validate on 8000 samples\n",
      "Epoch 1/1\n",
      "5000/5000 [==============================] - 64s - loss: 2.6708e-05 - acc: 1.0000 - val_loss: 3.8111 - val_acc: 0.5279\n",
      "8000/8000 [==============================] - 39s    \n",
      "('iteration : ', 72, ', accuracy %: ', 52.7875)\n",
      "Train on 5000 samples, validate on 8000 samples\n",
      "Epoch 1/1\n",
      "5000/5000 [==============================] - 64s - loss: 2.6214e-05 - acc: 1.0000 - val_loss: 3.8151 - val_acc: 0.5279\n",
      "8000/8000 [==============================] - 39s    \n",
      "('iteration : ', 73, ', accuracy %: ', 52.7875)\n",
      "Train on 5000 samples, validate on 8000 samples\n",
      "Epoch 1/1\n",
      "5000/5000 [==============================] - 64s - loss: 2.5738e-05 - acc: 1.0000 - val_loss: 3.8191 - val_acc: 0.5282\n",
      "8000/8000 [==============================] - 39s    \n",
      "('iteration : ', 74, ', accuracy %: ', 52.825)\n",
      "('saving at iter::: ', 74)\n",
      "Train on 5000 samples, validate on 8000 samples\n",
      "Epoch 1/1\n",
      "5000/5000 [==============================] - 64s - loss: 2.5278e-05 - acc: 1.0000 - val_loss: 3.8229 - val_acc: 0.5282\n",
      "8000/8000 [==============================] - 39s    \n",
      "('iteration : ', 75, ', accuracy %: ', 52.825)\n",
      "Train on 5000 samples, validate on 8000 samples\n",
      "Epoch 1/1\n",
      "5000/5000 [==============================] - 64s - loss: 2.4838e-05 - acc: 1.0000 - val_loss: 3.8266 - val_acc: 0.5284\n",
      "8000/8000 [==============================] - 39s    \n",
      "('iteration : ', 76, ', accuracy %: ', 52.837500000000006)\n",
      "('saving at iter::: ', 76)\n",
      "Train on 5000 samples, validate on 8000 samples\n",
      "Epoch 1/1\n",
      "5000/5000 [==============================] - 64s - loss: 2.4413e-05 - acc: 1.0000 - val_loss: 3.8303 - val_acc: 0.5281\n",
      "8000/8000 [==============================] - 39s    \n",
      "('iteration : ', 77, ', accuracy %: ', 52.81249999999999)\n",
      "Train on 5000 samples, validate on 8000 samples\n",
      "Epoch 1/1\n",
      "5000/5000 [==============================] - 64s - loss: 2.3997e-05 - acc: 1.0000 - val_loss: 3.8339 - val_acc: 0.5284\n",
      "8000/8000 [==============================] - 39s    \n",
      "('iteration : ', 78, ', accuracy %: ', 52.837500000000006)\n",
      "Train on 5000 samples, validate on 8000 samples\n",
      "Epoch 1/1\n",
      "5000/5000 [==============================] - 64s - loss: 2.3597e-05 - acc: 1.0000 - val_loss: 3.8374 - val_acc: 0.5281\n",
      "8000/8000 [==============================] - 39s    \n",
      "('iteration : ', 79, ', accuracy %: ', 52.81249999999999)\n",
      "Train on 5000 samples, validate on 8000 samples\n",
      "Epoch 1/1\n",
      "5000/5000 [==============================] - 64s - loss: 2.3216e-05 - acc: 1.0000 - val_loss: 3.8409 - val_acc: 0.5279\n",
      "8000/8000 [==============================] - 39s    \n",
      "('iteration : ', 80, ', accuracy %: ', 52.7875)\n",
      "Train on 5000 samples, validate on 8000 samples\n",
      "Epoch 1/1\n",
      "5000/5000 [==============================] - 64s - loss: 2.2839e-05 - acc: 1.0000 - val_loss: 3.8444 - val_acc: 0.5280\n",
      "8000/8000 [==============================] - 39s    \n",
      "('iteration : ', 81, ', accuracy %: ', 52.800000000000004)\n",
      "Train on 5000 samples, validate on 8000 samples\n",
      "Epoch 1/1\n",
      "5000/5000 [==============================] - 64s - loss: 2.2475e-05 - acc: 1.0000 - val_loss: 3.8478 - val_acc: 0.5280\n",
      "8000/8000 [==============================] - 39s    \n",
      "('iteration : ', 82, ', accuracy %: ', 52.800000000000004)\n",
      "Train on 5000 samples, validate on 8000 samples\n",
      "Epoch 1/1\n",
      "5000/5000 [==============================] - 64s - loss: 2.2123e-05 - acc: 1.0000 - val_loss: 3.8510 - val_acc: 0.5281\n",
      "8000/8000 [==============================] - 39s    \n",
      "('iteration : ', 83, ', accuracy %: ', 52.81249999999999)\n",
      "Train on 5000 samples, validate on 8000 samples\n",
      "Epoch 1/1\n",
      "5000/5000 [==============================] - 64s - loss: 2.1787e-05 - acc: 1.0000 - val_loss: 3.8542 - val_acc: 0.5281\n",
      "8000/8000 [==============================] - 39s    \n",
      "('iteration : ', 84, ', accuracy %: ', 52.81249999999999)\n",
      "Train on 5000 samples, validate on 8000 samples\n",
      "Epoch 1/1\n",
      "5000/5000 [==============================] - 65s - loss: 2.1456e-05 - acc: 1.0000 - val_loss: 3.8575 - val_acc: 0.5282\n",
      "8000/8000 [==============================] - 39s    \n",
      "('iteration : ', 85, ', accuracy %: ', 52.825)\n",
      "Train on 5000 samples, validate on 8000 samples\n",
      "Epoch 1/1\n",
      "5000/5000 [==============================] - 64s - loss: 2.1136e-05 - acc: 1.0000 - val_loss: 3.8606 - val_acc: 0.5281\n",
      "8000/8000 [==============================] - 40s    \n",
      "('iteration : ', 86, ', accuracy %: ', 52.81249999999999)\n",
      "Train on 5000 samples, validate on 8000 samples\n",
      "Epoch 1/1\n",
      "5000/5000 [==============================] - 64s - loss: 2.0828e-05 - acc: 1.0000 - val_loss: 3.8637 - val_acc: 0.5281\n",
      "8000/8000 [==============================] - 39s    \n",
      "('iteration : ', 87, ', accuracy %: ', 52.81249999999999)\n",
      "Train on 5000 samples, validate on 8000 samples\n",
      "Epoch 1/1\n",
      "5000/5000 [==============================] - 64s - loss: 2.0529e-05 - acc: 1.0000 - val_loss: 3.8668 - val_acc: 0.5282\n",
      "8000/8000 [==============================] - 40s    \n",
      "('iteration : ', 88, ', accuracy %: ', 52.825)\n",
      "Train on 5000 samples, validate on 8000 samples\n",
      "Epoch 1/1\n",
      "5000/5000 [==============================] - 64s - loss: 2.0232e-05 - acc: 1.0000 - val_loss: 3.8698 - val_acc: 0.5281\n",
      "8000/8000 [==============================] - 39s    \n",
      "('iteration : ', 89, ', accuracy %: ', 52.81249999999999)\n",
      "Train on 5000 samples, validate on 8000 samples\n",
      "Epoch 1/1\n",
      "5000/5000 [==============================] - 64s - loss: 1.9949e-05 - acc: 1.0000 - val_loss: 3.8728 - val_acc: 0.5281\n",
      "8000/8000 [==============================] - 40s    \n",
      "('iteration : ', 90, ', accuracy %: ', 52.81249999999999)\n",
      "Train on 5000 samples, validate on 8000 samples\n",
      "Epoch 1/1\n",
      "5000/5000 [==============================] - 66s - loss: 1.9673e-05 - acc: 1.0000 - val_loss: 3.8758 - val_acc: 0.5280\n",
      "8000/8000 [==============================] - 39s    \n",
      "('iteration : ', 91, ', accuracy %: ', 52.800000000000004)\n",
      "Train on 5000 samples, validate on 8000 samples\n",
      "Epoch 1/1\n",
      "5000/5000 [==============================] - 65s - loss: 1.9406e-05 - acc: 1.0000 - val_loss: 3.8786 - val_acc: 0.5281\n",
      "8000/8000 [==============================] - 39s    \n",
      "('iteration : ', 92, ', accuracy %: ', 52.81249999999999)\n",
      "Train on 5000 samples, validate on 8000 samples\n",
      "Epoch 1/1\n",
      "5000/5000 [==============================] - 65s - loss: 1.9145e-05 - acc: 1.0000 - val_loss: 3.8814 - val_acc: 0.5281\n",
      "8000/8000 [==============================] - 39s    \n",
      "('iteration : ', 93, ', accuracy %: ', 52.81249999999999)\n",
      "Train on 5000 samples, validate on 8000 samples\n",
      "Epoch 1/1\n",
      "5000/5000 [==============================] - 64s - loss: 1.8889e-05 - acc: 1.0000 - val_loss: 3.8842 - val_acc: 0.5282\n",
      "8000/8000 [==============================] - 39s    \n",
      "('iteration : ', 94, ', accuracy %: ', 52.825)\n",
      "Train on 5000 samples, validate on 8000 samples\n",
      "Epoch 1/1\n",
      "5000/5000 [==============================] - 64s - loss: 1.8641e-05 - acc: 1.0000 - val_loss: 3.8870 - val_acc: 0.5285\n",
      "8000/8000 [==============================] - 39s    \n",
      "('iteration : ', 95, ', accuracy %: ', 52.849999999999994)\n",
      "('saving at iter::: ', 95)\n",
      "Train on 5000 samples, validate on 8000 samples\n",
      "Epoch 1/1\n",
      "5000/5000 [==============================] - 63s - loss: 1.8402e-05 - acc: 1.0000 - val_loss: 3.8897 - val_acc: 0.5285\n",
      "8000/8000 [==============================] - 39s    \n",
      "('iteration : ', 96, ', accuracy %: ', 52.849999999999994)\n",
      "Train on 5000 samples, validate on 8000 samples\n",
      "Epoch 1/1\n",
      "5000/5000 [==============================] - 64s - loss: 1.8167e-05 - acc: 1.0000 - val_loss: 3.8924 - val_acc: 0.5285\n",
      "8000/8000 [==============================] - 40s    \n",
      "('iteration : ', 97, ', accuracy %: ', 52.849999999999994)\n",
      "Train on 5000 samples, validate on 8000 samples\n",
      "Epoch 1/1\n",
      "5000/5000 [==============================] - 63s - loss: 1.7936e-05 - acc: 1.0000 - val_loss: 3.8950 - val_acc: 0.5288\n",
      "8000/8000 [==============================] - 39s    \n",
      "('iteration : ', 98, ', accuracy %: ', 52.87500000000001)\n",
      "('saving at iter::: ', 98)\n",
      "Train on 5000 samples, validate on 8000 samples\n",
      "Epoch 1/1\n",
      "5000/5000 [==============================] - 64s - loss: 1.7716e-05 - acc: 1.0000 - val_loss: 3.8976 - val_acc: 0.5288\n",
      "8000/8000 [==============================] - 40s    \n",
      "('iteration : ', 99, ', accuracy %: ', 52.87500000000001)\n",
      "Train on 5000 samples, validate on 8000 samples\n",
      "Epoch 1/1\n",
      "5000/5000 [==============================] - 67s - loss: 1.7495e-05 - acc: 1.0000 - val_loss: 3.9002 - val_acc: 0.5288\n",
      "8000/8000 [==============================] - 39s    \n",
      "('iteration : ', 100, ', accuracy %: ', 52.87500000000001)\n",
      "Train on 5000 samples, validate on 8000 samples\n",
      "Epoch 1/1\n",
      "5000/5000 [==============================] - 64s - loss: 1.7282e-05 - acc: 1.0000 - val_loss: 3.9028 - val_acc: 0.5288\n",
      "8000/8000 [==============================] - 40s    \n",
      "('iteration : ', 101, ', accuracy %: ', 52.87500000000001)\n",
      "Train on 5000 samples, validate on 8000 samples\n",
      "Epoch 1/1\n",
      "4992/5000 [============================>.] - ETA: 0s - loss: 1.7088e-05 - acc: 1.0000"
     ]
    },
    {
     "ename": "KeyboardInterrupt",
     "evalue": "",
     "output_type": "error",
     "traceback": [
      "\u001b[0;31m---------------------------------------------------------------------------\u001b[0m",
      "\u001b[0;31mKeyboardInterrupt\u001b[0m                         Traceback (most recent call last)",
      "\u001b[0;32m<ipython-input-221-728d5e29c5b7>\u001b[0m in \u001b[0;36m<module>\u001b[0;34m()\u001b[0m\n\u001b[1;32m      5\u001b[0m \u001b[0;32mwhile\u001b[0m\u001b[0;34m(\u001b[0m\u001b[0mTrue\u001b[0m\u001b[0;34m)\u001b[0m\u001b[0;34m:\u001b[0m\u001b[0;34m\u001b[0m\u001b[0m\n\u001b[1;32m      6\u001b[0m     \u001b[0miteration\u001b[0m \u001b[0;34m+=\u001b[0m\u001b[0;36m1\u001b[0m\u001b[0;34m\u001b[0m\u001b[0m\n\u001b[0;32m----> 7\u001b[0;31m     \u001b[0mmodel\u001b[0m\u001b[0;34m.\u001b[0m\u001b[0mfit\u001b[0m\u001b[0;34m(\u001b[0m\u001b[0mtrain_x\u001b[0m\u001b[0;34m,\u001b[0m \u001b[0mtrain_y\u001b[0m\u001b[0;34m,\u001b[0m\u001b[0mbatch_size\u001b[0m\u001b[0;34m=\u001b[0m\u001b[0mbatch_size\u001b[0m\u001b[0;34m,\u001b[0m\u001b[0mnb_epoch\u001b[0m\u001b[0;34m=\u001b[0m\u001b[0;36m1\u001b[0m\u001b[0;34m,\u001b[0m\u001b[0mshuffle\u001b[0m\u001b[0;34m=\u001b[0m\u001b[0mTrue\u001b[0m\u001b[0;34m,\u001b[0m\u001b[0mverbose\u001b[0m\u001b[0;34m=\u001b[0m\u001b[0;36m1\u001b[0m\u001b[0;34m,\u001b[0m\u001b[0mvalidation_data\u001b[0m\u001b[0;34m=\u001b[0m\u001b[0;34m(\u001b[0m\u001b[0mtest_x\u001b[0m\u001b[0;34m,\u001b[0m \u001b[0mtest_y\u001b[0m\u001b[0;34m)\u001b[0m\u001b[0;34m)\u001b[0m\u001b[0;34m\u001b[0m\u001b[0m\n\u001b[0m\u001b[1;32m      8\u001b[0m     \u001b[0mpredictions_valid\u001b[0m \u001b[0;34m=\u001b[0m \u001b[0mmodel\u001b[0m\u001b[0;34m.\u001b[0m\u001b[0mpredict\u001b[0m\u001b[0;34m(\u001b[0m\u001b[0mtest_x\u001b[0m\u001b[0;34m,\u001b[0m \u001b[0mbatch_size\u001b[0m\u001b[0;34m=\u001b[0m\u001b[0mbatch_size\u001b[0m\u001b[0;34m,\u001b[0m \u001b[0mverbose\u001b[0m\u001b[0;34m=\u001b[0m\u001b[0;36m1\u001b[0m\u001b[0;34m)\u001b[0m\u001b[0;34m\u001b[0m\u001b[0m\n\u001b[1;32m      9\u001b[0m     \u001b[0;31m#accuracy\u001b[0m\u001b[0;34m\u001b[0m\u001b[0;34m\u001b[0m\u001b[0m\n",
      "\u001b[0;32m/home/ppedapen/anaconda2/lib/python2.7/site-packages/keras/engine/training.pyc\u001b[0m in \u001b[0;36mfit\u001b[0;34m(self, x, y, batch_size, nb_epoch, verbose, callbacks, validation_split, validation_data, shuffle, class_weight, sample_weight, initial_epoch)\u001b[0m\n\u001b[1;32m   1194\u001b[0m                               \u001b[0mval_f\u001b[0m\u001b[0;34m=\u001b[0m\u001b[0mval_f\u001b[0m\u001b[0;34m,\u001b[0m \u001b[0mval_ins\u001b[0m\u001b[0;34m=\u001b[0m\u001b[0mval_ins\u001b[0m\u001b[0;34m,\u001b[0m \u001b[0mshuffle\u001b[0m\u001b[0;34m=\u001b[0m\u001b[0mshuffle\u001b[0m\u001b[0;34m,\u001b[0m\u001b[0;34m\u001b[0m\u001b[0m\n\u001b[1;32m   1195\u001b[0m                               \u001b[0mcallback_metrics\u001b[0m\u001b[0;34m=\u001b[0m\u001b[0mcallback_metrics\u001b[0m\u001b[0;34m,\u001b[0m\u001b[0;34m\u001b[0m\u001b[0m\n\u001b[0;32m-> 1196\u001b[0;31m                               initial_epoch=initial_epoch)\n\u001b[0m\u001b[1;32m   1197\u001b[0m \u001b[0;34m\u001b[0m\u001b[0m\n\u001b[1;32m   1198\u001b[0m     \u001b[0;32mdef\u001b[0m \u001b[0mevaluate\u001b[0m\u001b[0;34m(\u001b[0m\u001b[0mself\u001b[0m\u001b[0;34m,\u001b[0m \u001b[0mx\u001b[0m\u001b[0;34m,\u001b[0m \u001b[0my\u001b[0m\u001b[0;34m,\u001b[0m \u001b[0mbatch_size\u001b[0m\u001b[0;34m=\u001b[0m\u001b[0;36m32\u001b[0m\u001b[0;34m,\u001b[0m \u001b[0mverbose\u001b[0m\u001b[0;34m=\u001b[0m\u001b[0;36m1\u001b[0m\u001b[0;34m,\u001b[0m \u001b[0msample_weight\u001b[0m\u001b[0;34m=\u001b[0m\u001b[0mNone\u001b[0m\u001b[0;34m)\u001b[0m\u001b[0;34m:\u001b[0m\u001b[0;34m\u001b[0m\u001b[0m\n",
      "\u001b[0;32m/home/ppedapen/anaconda2/lib/python2.7/site-packages/keras/engine/training.pyc\u001b[0m in \u001b[0;36m_fit_loop\u001b[0;34m(self, f, ins, out_labels, batch_size, nb_epoch, verbose, callbacks, val_f, val_ins, shuffle, callback_metrics, initial_epoch)\u001b[0m\n\u001b[1;32m    903\u001b[0m                         val_outs = self._test_loop(val_f, val_ins,\n\u001b[1;32m    904\u001b[0m                                                    \u001b[0mbatch_size\u001b[0m\u001b[0;34m=\u001b[0m\u001b[0mbatch_size\u001b[0m\u001b[0;34m,\u001b[0m\u001b[0;34m\u001b[0m\u001b[0m\n\u001b[0;32m--> 905\u001b[0;31m                                                    verbose=0)\n\u001b[0m\u001b[1;32m    906\u001b[0m                         \u001b[0;32mif\u001b[0m \u001b[0;32mnot\u001b[0m \u001b[0misinstance\u001b[0m\u001b[0;34m(\u001b[0m\u001b[0mval_outs\u001b[0m\u001b[0;34m,\u001b[0m \u001b[0mlist\u001b[0m\u001b[0;34m)\u001b[0m\u001b[0;34m:\u001b[0m\u001b[0;34m\u001b[0m\u001b[0m\n\u001b[1;32m    907\u001b[0m                             \u001b[0mval_outs\u001b[0m \u001b[0;34m=\u001b[0m \u001b[0;34m[\u001b[0m\u001b[0mval_outs\u001b[0m\u001b[0;34m]\u001b[0m\u001b[0;34m\u001b[0m\u001b[0m\n",
      "\u001b[0;32m/home/ppedapen/anaconda2/lib/python2.7/site-packages/keras/engine/training.pyc\u001b[0m in \u001b[0;36m_test_loop\u001b[0;34m(self, f, ins, batch_size, verbose)\u001b[0m\n\u001b[1;32m    988\u001b[0m                 \u001b[0mins_batch\u001b[0m \u001b[0;34m=\u001b[0m \u001b[0mslice_X\u001b[0m\u001b[0;34m(\u001b[0m\u001b[0mins\u001b[0m\u001b[0;34m,\u001b[0m \u001b[0mbatch_ids\u001b[0m\u001b[0;34m)\u001b[0m\u001b[0;34m\u001b[0m\u001b[0m\n\u001b[1;32m    989\u001b[0m \u001b[0;34m\u001b[0m\u001b[0m\n\u001b[0;32m--> 990\u001b[0;31m             \u001b[0mbatch_outs\u001b[0m \u001b[0;34m=\u001b[0m \u001b[0mf\u001b[0m\u001b[0;34m(\u001b[0m\u001b[0mins_batch\u001b[0m\u001b[0;34m)\u001b[0m\u001b[0;34m\u001b[0m\u001b[0m\n\u001b[0m\u001b[1;32m    991\u001b[0m             \u001b[0;32mif\u001b[0m \u001b[0misinstance\u001b[0m\u001b[0;34m(\u001b[0m\u001b[0mbatch_outs\u001b[0m\u001b[0;34m,\u001b[0m \u001b[0mlist\u001b[0m\u001b[0;34m)\u001b[0m\u001b[0;34m:\u001b[0m\u001b[0;34m\u001b[0m\u001b[0m\n\u001b[1;32m    992\u001b[0m                 \u001b[0;32mif\u001b[0m \u001b[0mbatch_index\u001b[0m \u001b[0;34m==\u001b[0m \u001b[0;36m0\u001b[0m\u001b[0;34m:\u001b[0m\u001b[0;34m\u001b[0m\u001b[0m\n",
      "\u001b[0;32m/home/ppedapen/anaconda2/lib/python2.7/site-packages/keras/backend/theano_backend.pyc\u001b[0m in \u001b[0;36m__call__\u001b[0;34m(self, inputs)\u001b[0m\n\u001b[1;32m    957\u001b[0m     \u001b[0;32mdef\u001b[0m \u001b[0m__call__\u001b[0m\u001b[0;34m(\u001b[0m\u001b[0mself\u001b[0m\u001b[0;34m,\u001b[0m \u001b[0minputs\u001b[0m\u001b[0;34m)\u001b[0m\u001b[0;34m:\u001b[0m\u001b[0;34m\u001b[0m\u001b[0m\n\u001b[1;32m    958\u001b[0m         \u001b[0;32massert\u001b[0m \u001b[0misinstance\u001b[0m\u001b[0;34m(\u001b[0m\u001b[0minputs\u001b[0m\u001b[0;34m,\u001b[0m \u001b[0;34m(\u001b[0m\u001b[0mlist\u001b[0m\u001b[0;34m,\u001b[0m \u001b[0mtuple\u001b[0m\u001b[0;34m)\u001b[0m\u001b[0;34m)\u001b[0m\u001b[0;34m\u001b[0m\u001b[0m\n\u001b[0;32m--> 959\u001b[0;31m         \u001b[0;32mreturn\u001b[0m \u001b[0mself\u001b[0m\u001b[0;34m.\u001b[0m\u001b[0mfunction\u001b[0m\u001b[0;34m(\u001b[0m\u001b[0;34m*\u001b[0m\u001b[0minputs\u001b[0m\u001b[0;34m)\u001b[0m\u001b[0;34m\u001b[0m\u001b[0m\n\u001b[0m\u001b[1;32m    960\u001b[0m \u001b[0;34m\u001b[0m\u001b[0m\n\u001b[1;32m    961\u001b[0m \u001b[0;34m\u001b[0m\u001b[0m\n",
      "\u001b[0;32m/home/ppedapen/anaconda2/lib/python2.7/site-packages/theano/compile/function_module.pyc\u001b[0m in \u001b[0;36m__call__\u001b[0;34m(self, *args, **kwargs)\u001b[0m\n\u001b[1;32m    882\u001b[0m         \u001b[0;32mtry\u001b[0m\u001b[0;34m:\u001b[0m\u001b[0;34m\u001b[0m\u001b[0m\n\u001b[1;32m    883\u001b[0m             \u001b[0moutputs\u001b[0m \u001b[0;34m=\u001b[0m\u001b[0;31m\\\u001b[0m\u001b[0;34m\u001b[0m\u001b[0m\n\u001b[0;32m--> 884\u001b[0;31m                 \u001b[0mself\u001b[0m\u001b[0;34m.\u001b[0m\u001b[0mfn\u001b[0m\u001b[0;34m(\u001b[0m\u001b[0;34m)\u001b[0m \u001b[0;32mif\u001b[0m \u001b[0moutput_subset\u001b[0m \u001b[0;32mis\u001b[0m \u001b[0mNone\u001b[0m \u001b[0;32melse\u001b[0m\u001b[0;31m\\\u001b[0m\u001b[0;34m\u001b[0m\u001b[0m\n\u001b[0m\u001b[1;32m    885\u001b[0m                 \u001b[0mself\u001b[0m\u001b[0;34m.\u001b[0m\u001b[0mfn\u001b[0m\u001b[0;34m(\u001b[0m\u001b[0moutput_subset\u001b[0m\u001b[0;34m=\u001b[0m\u001b[0moutput_subset\u001b[0m\u001b[0;34m)\u001b[0m\u001b[0;34m\u001b[0m\u001b[0m\n\u001b[1;32m    886\u001b[0m         \u001b[0;32mexcept\u001b[0m \u001b[0mException\u001b[0m\u001b[0;34m:\u001b[0m\u001b[0;34m\u001b[0m\u001b[0m\n",
      "\u001b[0;31mKeyboardInterrupt\u001b[0m: "
     ]
    }
   ],
   "source": [
    "# infinity loop  to train the model. \n",
    "accuracy =float()\n",
    "iteration = int()\n",
    "# you cant set how many times one want to run the loop, that is equal to the number of epoches. I have set infinity loop\n",
    "# the model will be saved if there is an improved  prediction accuracy \n",
    "while(True):\n",
    "    iteration +=1 \n",
    "    model.fit(train_x, train_y,batch_size=batch_size,nb_epoch=1,shuffle=True,verbose=1,validation_data=(test_x, test_y))\n",
    "    predictions_valid = model.predict(test_x, batch_size=batch_size, verbose=1)\n",
    "    #accuracy\n",
    "    temp = np.zeros_like(predictions_valid)\n",
    "    temp[np.arange(len(predictions_valid)), predictions_valid.argmax(1)] = 1\n",
    "    count = 0\n",
    "    for i in range(0, len(temp)):\n",
    "        if (np.count_nonzero(test_y[i]!=temp[i])  == 0):\n",
    "            count +=1\n",
    "\n",
    "    accuracy_cal = (float(count)/(len(temp)))\n",
    "    print('iteration : ',iteration,', accuracy %: ',accuracy_cal*100)\n",
    "    if accuracy_cal > accuracy:\n",
    "        print('saving at iter::: ' ,iteration )\n",
    "        accuracy = accuracy_cal\n",
    "        model.save('dl-model.h5')\n",
    "        \n",
    "        \n",
    "    \n",
    "    "
   ]
  },
  {
   "cell_type": "markdown",
   "metadata": {
    "collapsed": true
   },
   "source": [
    "#### intrupted after running nearly 100 epochs and saved the weights. I got a maximum accurary of 52.85 % "
   ]
  },
  {
   "cell_type": "code",
   "execution_count": null,
   "metadata": {
    "collapsed": true
   },
   "outputs": [],
   "source": []
  },
  {
   "cell_type": "markdown",
   "metadata": {},
   "source": [
    "## visuallizing results "
   ]
  },
  {
   "cell_type": "code",
   "execution_count": 19,
   "metadata": {
    "collapsed": true
   },
   "outputs": [],
   "source": [
    "\n",
    "# imports\n",
    "%matplotlib inline\n",
    "import os\n",
    "import pandas as pd\n",
    "import numpy as np\n",
    "import matplotlib.pyplot as plt\n",
    "import matplotlib.image as mpimg\n",
    "import sys"
   ]
  },
  {
   "cell_type": "code",
   "execution_count": 20,
   "metadata": {
    "collapsed": true
   },
   "outputs": [],
   "source": [
    "# reversing onehot encoding of predicted values \n",
    "li = []\n",
    "for i in range(0, len(temp)):\n",
    "    val=np.where(temp[i])[0][0]+1\n",
    "    li.append(val)"
   ]
  },
  {
   "cell_type": "code",
   "execution_count": 22,
   "metadata": {},
   "outputs": [
    {
     "name": "stdout",
     "output_type": "stream",
     "text": [
      "[[535  43  39  10  25  12  17   2  85  51]\n",
      " [ 34 373  11  95  38  64  25 107  11   3]\n",
      " [ 36   6 542  17   4   6  14   2  45 106]\n",
      " [  7 100  20 342  92 122  36 118  26  14]\n",
      " [  9  56   5  91 426  85  67  73   4   8]\n",
      " [ 13  68  16  86  41 252 101 111   3  15]\n",
      " [  5  16  10  25  88 124 453  62   3  15]\n",
      " [  4 130   7 115  70 118  55 319   0   5]\n",
      " [111   5  34  11   8   9   3   3 519 114]\n",
      " [ 46   3 116   8   8   8  29   3 104 469]]\n"
     ]
    }
   ],
   "source": [
    "# this is the confussion matrix \n",
    "\n",
    "from sklearn.metrics import confusion_matrix\n",
    "test_y = read_labels('test_y.bin')\n",
    "mat = confusion_matrix(li, test_y)\n",
    "\n",
    "true_val = []\n",
    "for i in range(0,10):\n",
    "    true_val.append(mat[i,i])\n",
    "\n",
    "test_predicted_true = dict()\n",
    "test_predicted_false = dict()\n",
    "for i in range(0,10):\n",
    "    test_predicted_true[str(i+1)] = true_val[i]\n",
    "    test_predicted_false[str(i+1)] = 800- true_val[i]\n",
    "    \n",
    "\n",
    "print(mat)\n",
    "\n",
    "    "
   ]
  },
  {
   "cell_type": "markdown",
   "metadata": {
    "collapsed": true
   },
   "source": [
    "[ 1,  2,  3,  4,  5,  6,  7,  8,  9, 10] # see this a lable \n",
    "\n",
    "if there is any inconvenience to read the matrix \n",
    "refere this link http://scikit-learn.org/stable/modules/generated/sklearn.metrics.confusion_matrix.html\n"
   ]
  },
  {
   "cell_type": "code",
   "execution_count": 30,
   "metadata": {},
   "outputs": [
    {
     "data": {
      "image/png": "[encoded data removed]",
      "text/plain": [
       "<matplotlib.figure.Figure at 0x2aab2e34a910>"
      ]
     },
     "metadata": {},
     "output_type": "display_data"
    },
    {
     "name": "stdout",
     "output_type": "stream",
     "text": [
      "x axis shows the classes  of images in this data set and Y axis shows how many of them are classifed accurately belonging to a particular class\n"
     ]
    }
   ],
   "source": [
    "# plots\n",
    "# how many correted accurately \n",
    "plt.bar(range(len(test_predicted_true)), test_predicted_true.values(), align='center')\n",
    "plt.xticks(range(len(test_predicted_true)), test_predicted_true.keys())\n",
    "plt.xlabel('classes')\n",
    "plt.ylabel('number of images classified correctly ')\n",
    "plt.title('how many images classified  accurately')\n",
    "plt.show()\n",
    "print(\"x axis shows the classes  of images in this data set and Y axis shows how many of them are \\\n",
    "classifed accurately belonging to a particular class\")"
   ]
  },
  {
   "cell_type": "code",
   "execution_count": 31,
   "metadata": {},
   "outputs": [
    {
     "data": {
      "image/png": "[encoded data removed]",
      "text/plain": [
       "<matplotlib.figure.Figure at 0x2aab2e447510>"
      ]
     },
     "metadata": {},
     "output_type": "display_data"
    },
    {
     "name": "stdout",
     "output_type": "stream",
     "text": [
      "x axis shows the classes  of images in this data set and Y axis shows how many of them are classifed inaccurately belonging to a particular class\n"
     ]
    }
   ],
   "source": [
    "# how many false\n",
    "plt.bar(range(len(test_predicted_false)), test_predicted_false.values(), align='center')\n",
    "plt.xticks(range(len(test_predicted_false)), test_predicted_false.keys())\n",
    "plt.xlabel('classes')\n",
    "plt.ylabel('number of images classified wrong')\n",
    "plt.title('how many images classified  inaccurately')\n",
    "plt.show()\n",
    "print(\"x axis shows the classes  of images in this data set and Y axis shows how many of them are \\\n",
    "classifed inaccurately belonging to a particular class\")"
   ]
  },
  {
   "cell_type": "code",
   "execution_count": 41,
   "metadata": {
    "collapsed": true
   },
   "outputs": [],
   "source": [
    "def plot_clasfied(class_label,label_name):\n",
    "    plt.plot(range(1,11),  mat[class_label-1,:], 'ro')\n",
    "    plt.title('how class label : '+ str(class_label)+' is clasified' )\n",
    "    plt.ylabel('numbers of times')\n",
    "    plt.xticks(np.arange(1, 11, 1.0))\n",
    "    plt.show()\n",
    "    print('class label', class_label ,' is :',label_name)\n",
    "    print(\" the plot shows how images belonging to a particular class got \\\n",
    "    classified by our prediction model to different classes \")\n",
    "    "
   ]
  },
  {
   "cell_type": "code",
   "execution_count": 42,
   "metadata": {},
   "outputs": [],
   "source": [
    "lables={'bird': 2,\n",
    " 'car': 3,\n",
    " 'cat': 4,\n",
    " 'deer': 5,\n",
    " 'dog': 6,\n",
    " 'horse': 7,\n",
    " 'monkey': 8,\n",
    " 'plane': 1,\n",
    " 'ship': 9,\n",
    " 'truck': 10}"
   ]
  },
  {
   "cell_type": "code",
   "execution_count": 43,
   "metadata": {},
   "outputs": [
    {
     "data": {
      "image/png": "[encoded data removed]",
      "text/plain": [
       "<matplotlib.figure.Figure at 0x2aab2e361210>"
      ]
     },
     "metadata": {},
     "output_type": "display_data"
    },
    {
     "name": "stdout",
     "output_type": "stream",
     "text": [
      "('class label', 1, ' is :', 'plane')\n",
      " the plot shows how images belonging to a particular class got classified by our prediction model to different classes \n"
     ]
    }
   ],
   "source": [
    "plot_clasfied(1,'plane')\n"
   ]
  },
  {
   "cell_type": "code",
   "execution_count": 44,
   "metadata": {},
   "outputs": [
    {
     "data": {
      "image/png": "[encoded data removed]",
      "text/plain": [
       "<matplotlib.figure.Figure at 0x2aab2e4af5d0>"
      ]
     },
     "metadata": {},
     "output_type": "display_data"
    },
    {
     "name": "stdout",
     "output_type": "stream",
     "text": [
      "('class label', 2, ' is :', 'Bird')\n",
      " the plot shows how images belonging to a particular class got classified by our prediction model to different classes \n"
     ]
    }
   ],
   "source": [
    "plot_clasfied(2,'Bird')"
   ]
  },
  {
   "cell_type": "code",
   "execution_count": 45,
   "metadata": {},
   "outputs": [
    {
     "data": {
      "image/png": "[encoded data removed]",
      "text/plain": [
       "<matplotlib.figure.Figure at 0x2aab2e0b7450>"
      ]
     },
     "metadata": {},
     "output_type": "display_data"
    },
    {
     "name": "stdout",
     "output_type": "stream",
     "text": [
      "('class label', 3, ' is :', 'Car')\n",
      " the plot shows how images belonging to a particular class got classified by our prediction model to different classes \n"
     ]
    }
   ],
   "source": [
    "plot_clasfied(3,'Car')\n",
    "# we can see model is getting more confused with label 10 : truck "
   ]
  },
  {
   "cell_type": "code",
   "execution_count": 46,
   "metadata": {},
   "outputs": [
    {
     "data": {
      "image/png": "[encoded data removed]",
      "text/plain": [
       "<matplotlib.figure.Figure at 0x2aab2dfd3850>"
      ]
     },
     "metadata": {},
     "output_type": "display_data"
    },
    {
     "name": "stdout",
     "output_type": "stream",
     "text": [
      "('class label', 4, ' is :', 'Cat')\n",
      " the plot shows how images belonging to a particular class got classified by our prediction model to different classes \n"
     ]
    }
   ],
   "source": [
    "plot_clasfied(4,'Cat') \n",
    "# we can see our model is getting confused more with other animals as they share similar features like Fur, eyes, legs \n"
   ]
  },
  {
   "cell_type": "code",
   "execution_count": 47,
   "metadata": {},
   "outputs": [
    {
     "data": {
      "image/png": "[encoded data removed]",
      "text/plain": [
       "<matplotlib.figure.Figure at 0x2aab2ddd82d0>"
      ]
     },
     "metadata": {},
     "output_type": "display_data"
    },
    {
     "name": "stdout",
     "output_type": "stream",
     "text": [
      "('class label', 5, ' is :', 'Deer')\n",
      " the plot shows how images belonging to a particular class got classified by our prediction model to different classes \n"
     ]
    }
   ],
   "source": [
    "plot_clasfied(5,'Deer')"
   ]
  },
  {
   "cell_type": "code",
   "execution_count": 48,
   "metadata": {},
   "outputs": [
    {
     "data": {
      "image/png": "[encoded data removed]",
      "text/plain": [
       "<matplotlib.figure.Figure at 0x2aab2dd04190>"
      ]
     },
     "metadata": {},
     "output_type": "display_data"
    },
    {
     "name": "stdout",
     "output_type": "stream",
     "text": [
      "('class label', 6, ' is :', 'Dog')\n",
      " the plot shows how images belonging to a particular class got classified by our prediction model to different classes \n"
     ]
    }
   ],
   "source": [
    "plot_clasfied(6,'Dog')"
   ]
  },
  {
   "cell_type": "code",
   "execution_count": 49,
   "metadata": {},
   "outputs": [
    {
     "data": {
      "image/png": "[encoded data removed]",
      "text/plain": [
       "<matplotlib.figure.Figure at 0x2aab2e03c8d0>"
      ]
     },
     "metadata": {},
     "output_type": "display_data"
    },
    {
     "name": "stdout",
     "output_type": "stream",
     "text": [
      "('class label', 7, ' is :', 'Horse')\n",
      " the plot shows how images belonging to a particular class got classified by our prediction model to different classes \n"
     ]
    }
   ],
   "source": [
    "plot_clasfied(7,'Horse')"
   ]
  },
  {
   "cell_type": "code",
   "execution_count": 50,
   "metadata": {},
   "outputs": [
    {
     "data": {
      "image/png": "[encoded data removed]",
      "text/plain": [
       "<matplotlib.figure.Figure at 0x2aab2de3fc90>"
      ]
     },
     "metadata": {},
     "output_type": "display_data"
    },
    {
     "name": "stdout",
     "output_type": "stream",
     "text": [
      "('class label', 8, ' is :', 'Monkey')\n",
      " the plot shows how images belonging to a particular class got classified by our prediction model to different classes \n"
     ]
    }
   ],
   "source": [
    "plot_clasfied(8,'Monkey')"
   ]
  },
  {
   "cell_type": "code",
   "execution_count": 51,
   "metadata": {},
   "outputs": [
    {
     "data": {
      "image/png": "[encoded data removed]",
      "text/plain": [
       "<matplotlib.figure.Figure at 0x2aab2de7b790>"
      ]
     },
     "metadata": {},
     "output_type": "display_data"
    },
    {
     "name": "stdout",
     "output_type": "stream",
     "text": [
      "('class label', 9, ' is :', 'Ship')\n",
      " the plot shows how images belonging to a particular class got classified by our prediction model to different classes \n"
     ]
    }
   ],
   "source": [
    "plot_clasfied(9,'Ship')"
   ]
  },
  {
   "cell_type": "code",
   "execution_count": 52,
   "metadata": {},
   "outputs": [
    {
     "data": {
      "image/png": "[encoded data removed]",
      "text/plain": [
       "<matplotlib.figure.Figure at 0x2aab2e56b650>"
      ]
     },
     "metadata": {},
     "output_type": "display_data"
    },
    {
     "name": "stdout",
     "output_type": "stream",
     "text": [
      "('class label', 10, ' is :', 'Truck')\n",
      " the plot shows how images belonging to a particular class got classified by our prediction model to different classes \n"
     ]
    }
   ],
   "source": [
    "plot_clasfied(10,'Truck')\n",
    "# got more confused with car "
   ]
  },
  {
   "cell_type": "code",
   "execution_count": null,
   "metadata": {
    "collapsed": true
   },
   "outputs": [],
   "source": [
    "# if you want to visualize the images in the data set I have uploaded a python file to my github repo"
   ]
  },
  {
   "cell_type": "code",
   "execution_count": 5,
   "metadata": {},
   "outputs": [],
   "source": [
    "# remove optimizer_weights, run this if value error: Can't load_model with Optimizer weight shape not compatable \n",
    "import h5py\n",
    "f = h5py.File('dl-model.h5', 'r+')\n",
    "del f['optimizer_weights']\n",
    "f.close()"
   ]
  },
  {
   "cell_type": "markdown",
   "metadata": {},
   "source": [
    "### the best  image classification models (winner's of imagenet competition )will be around 86 % as per what I read, I am sure we can imporve my model. I personally could not imporve any further as my understanind of CNN is limited for now, hopefully  in future I will have the knowlege to do better. "
   ]
  },
  {
   "cell_type": "markdown",
   "metadata": {},
   "source": [
    "#### the data set we are provided are of 96*96 size, I feel the resoultion is quite low, if we were provided images of better quality that our accuracy of our model may imporve."
   ]
  },
  {
   "cell_type": "markdown",
   "metadata": {},
   "source": [
    "#### this model is not good at classifying animal's with fur, as most the animals in the given data set share similar features like they have fur, big eyes, 4 legs. to solve this issue we need  more images of these animals of high resoultion. "
   ]
  },
  {
   "cell_type": "code",
   "execution_count": null,
   "metadata": {
    "collapsed": true
   },
   "outputs": [],
   "source": []
  },
  {
   "cell_type": "markdown",
   "metadata": {},
   "source": [
    "#### I found this article quite useful to build this model \n",
    "https://www.analyticsvidhya.com/blog/2017/06/transfer-learning-the-art-of-fine-tuning-a-pre-trained-model/\n",
    "\n",
    "there is a bug in load_model(), I have addressed it though.  I took lot of time to fix it. "
   ]
  }
 ],
 "metadata": {
  "kernelspec": {
   "display_name": "Python [conda root]",
   "language": "python",
   "name": "conda-root-py"
  },
  "language_info": {
   "codemirror_mode": {
    "name": "ipython",
    "version": 2
   },
   "file_extension": ".py",
   "mimetype": "text/x-python",
   "name": "python",
   "nbconvert_exporter": "python",
   "pygments_lexer": "ipython2",
   "version": "2.7.12"
  }
 },
 "nbformat": 4,
 "nbformat_minor": 2
}
